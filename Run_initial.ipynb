{
 "cells": [
  {
   "cell_type": "code",
   "execution_count": 1,
   "id": "6ae0d976",
   "metadata": {},
   "outputs": [
    {
     "name": "stdout",
     "output_type": "stream",
     "text": [
      "Mon Jul 22 16:50:08 2024\n",
      "(1666, 20)\n",
      "Orthogonality check : 1.2522535092207576e-17\n",
      "[5.42262698e+04 4.76084309e+02 1.95952775e+02 1.27879933e+02\n",
      " 9.80827377e+01 9.25743278e+01 8.49673534e+01 4.85593222e+01\n",
      " 4.24772498e+01 3.10401737e+01 2.37021642e+01 1.55419742e+01\n",
      " 1.14537194e+01 9.21960484e+00 6.04740335e+00 4.84619303e+00\n",
      " 3.94396061e+00 3.30187305e+00 2.93179653e+00 1.97969815e+00]\n",
      "We are using 7 modes for conserving 99.5% of original T data!\n",
      "Mon Jul 22 16:50:08 2024\n",
      "cpu time :  0.3813743591308594\n"
     ]
    }
   ],
   "source": [
    "!python svd_scalar_SV_initial.py"
   ]
  },
  {
   "cell_type": "code",
   "execution_count": null,
   "id": "6939ee40",
   "metadata": {},
   "outputs": [],
   "source": []
  }
 ],
 "metadata": {
  "kernelspec": {
   "display_name": "Python 3 (ipykernel)",
   "language": "python",
   "name": "python3"
  },
  "language_info": {
   "codemirror_mode": {
    "name": "ipython",
    "version": 3
   },
   "file_extension": ".py",
   "mimetype": "text/x-python",
   "name": "python",
   "nbconvert_exporter": "python",
   "pygments_lexer": "ipython3",
   "version": "3.11.4"
  }
 },
 "nbformat": 4,
 "nbformat_minor": 5
}
